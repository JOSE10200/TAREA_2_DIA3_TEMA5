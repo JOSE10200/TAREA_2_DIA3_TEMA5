{
  "nbformat": 4,
  "nbformat_minor": 0,
  "metadata": {
    "colab": {
      "name": "tarea2.dia3.tema5.ipynb",
      "provenance": [],
      "authorship_tag": "ABX9TyNV9u8ksYsHcqX0aBRPBZCO",
      "include_colab_link": true
    },
    "kernelspec": {
      "name": "python3",
      "display_name": "Python 3"
    }
  },
  "cells": [
    {
      "cell_type": "markdown",
      "metadata": {
        "id": "view-in-github",
        "colab_type": "text"
      },
      "source": [
        "<a href=\"https://colab.research.google.com/github/JOSE10200/TAREA_2_DIA3_TEMA5/blob/main/tarea2_dia3_tema5.ipynb\" target=\"_parent\"><img src=\"https://colab.research.google.com/assets/colab-badge.svg\" alt=\"Open In Colab\"/></a>"
      ]
    },
    {
      "cell_type": "code",
      "metadata": {
        "id": "TNCtfO6N7lz7"
      },
      "source": [
        ""
      ],
      "execution_count": null,
      "outputs": []
    },
    {
      "cell_type": "code",
      "metadata": {
        "colab": {
          "base_uri": "https://localhost:8080/"
        },
        "id": "Y97zB26UYMXq",
        "outputId": "2529a865-82dc-4309-f505-4755297eb33c"
      },
      "source": [
        "#diccionario definido \n",
        "MAQUINARIA_PESADA = [\n",
        "                     {'tipo':'buldozer',\n",
        "                      'MARCA': 'caterpillar',\n",
        "                      'ESTADO':'NUEVO',\n",
        "                      'VIDA DE CARRILERIA': '100%',\n",
        "                      'HORAS DE USO' : 'NINGUNA',\n",
        "                    },\n",
        "                     \n",
        "                     {'TIPO': 'EXCAVADORA',\n",
        "                      'MARCA': 'CASE',\n",
        "                      'ESTADO': 'USADO',\n",
        "                      'VIDA DE CARRILERIA': '80%',\n",
        "                      'HORAS DE USA' : '4000 HRS'}\n",
        "                     \n",
        "]\n",
        "\n",
        "#AÑADIR DATOS EXTRA \n",
        "MAQUINARIA_PESADA[0].update({\"PAPELES EN REGLA\": \"SI\", \"ZAPATAS\":\"RECORTADAS\", \"CABINA\": \"CERRADA\"});\n",
        "MAQUINARIA_PESADA[1].update({\"PAPELES EN REGLA\": \"NO\", \"ZAPATAS\":\"RECORTADAS\", \"CABINA\": \"ABIERTA\"});\n",
        "\n",
        "#SOLICITAR DATOS NUEVOS AL USUARIO DE INTERES\n",
        "print(\"¿DESEA SABER DE MAQUINARIA DISPONIBLE EN AGENCIA?\")\n",
        "REFACCIONES: input()\n",
        "print(\" tipo de maquinaria\")\n",
        "MAQUINARIA: input()\n",
        "print(\"¿cabica cerrada o abierta?\")\n",
        "cabina: input()\n",
        "print(\"¿zapatas pantaneras o recortadas?\")\n",
        "print: input()\n",
        "\n",
        "print(\"CATALGO DE  MAQUINARIA_PESADA\")\n",
        "\n",
        "print(MAQUINARIA_PESADA[0]);\n",
        "print(MAQUINARIA_PESADA[1]);"
      ],
      "execution_count": 18,
      "outputs": [
        {
          "output_type": "stream",
          "text": [
            "¿DESEA SABER DE MAQUINARIA DISPONIBLE EN AGENCIA?\n",
            "SI\n",
            " tipo de maquinaria\n",
            "EXCAVADORA\n",
            "¿cabica cerrada o abierta?\n",
            "ABIERTA\n",
            "¿zapatas pantaneras o recortadas?\n",
            "RECORTADAS\n",
            "CATALGO DE  MAQUINARIA_PESADA\n",
            "{'tipo': 'buldozer', 'MARCA': 'caterpillar', 'ESTADO': 'NUEVO', 'VIDA DE CARRILERIA': '100%', 'HORAS DE USO': 'NINGUNA', 'PAPELES EN REGLA': 'SI', 'ZAPATAS': 'RECORTADAS', 'CABINA': 'CERRADA'}\n",
            "{'TIPO': 'EXCAVADORA', 'MARCA': 'CASE', 'ESTADO': 'USADO', 'VIDA DE CARRILERIA': '80%', 'HORAS DE USA': '4000 HRS', 'PAPELES EN REGLA': 'NO', 'ZAPATAS': 'RECORTADAS', 'CABINA': 'ABIERTA'}\n"
          ],
          "name": "stdout"
        }
      ]
    }
  ]
}